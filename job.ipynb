{
 "cells": [
  {
   "cell_type": "code",
   "execution_count": 5,
   "metadata": {},
   "outputs": [],
   "source": [
    "import re\n",
    "import requests\n",
    "import time\n",
    "from dotenv import load_dotenv\n",
    "import pandas as pd\n",
    "\n",
    "from selenium import webdriver\n",
    "from selenium.webdriver.common.by import By\n",
    "from selenium.webdriver.support.select import Select\n",
    "from bs4 import BeautifulSoup"
   ]
  },
  {
   "cell_type": "markdown",
   "metadata": {},
   "source": [
    "## \n",
    "\n",
    "---"
   ]
  },
  {
   "cell_type": "code",
   "execution_count": 15,
   "metadata": {},
   "outputs": [],
   "source": [
    "# Initailize\n",
    "jobDescription = [\"software\",\n",
    "                  \"software developer\",\n",
    "                  \"software dev\"\n",
    "                  \"SDET\",\n",
    "                  \"軟體實習生\",\n",
    "                  \"軟體測試實習生\",\n",
    "                  \"data analytics\",\n",
    "                  \"data science\",\n",
    "                  \"data scientist\",\n",
    "                  \"AI\"]\n",
    "\n",
    "# 搜索的內容\n",
    "searchKeyWords = [\"software intern\", \"軟體實習生\", \"後端實習生\", \"Node.js intern\"]\n"
   ]
  },
  {
   "cell_type": "code",
   "execution_count": 43,
   "metadata": {},
   "outputs": [],
   "source": [
    "def containOrNot(job, jobDescription: list):\n",
    "    \"\"\"\n",
    "    params:\n",
    "    - job: {\n",
    "        type: class,\n",
    "        data: class get by driver\n",
    "        }\n",
    "    - jobDescription: {\n",
    "        type: list,\n",
    "        data: list of job description\n",
    "    }\n",
    "    - jobDict: {\n",
    "        type: list of dictionary\n",
    "    }\n",
    "    \n",
    "    \"\"\"\n",
    "    tokenList = [string.lower() for string in job.get_attribute(\"data-job-name\").split(\" \")]\n",
    "    for token in tokenList:\n",
    "        if token in jobDescription and \"intern\" in tokenList or \"實習\" in tokenList:\n",
    "            return True\n",
    "    return False\n",
    "                   \n",
    "def findPageNumber(driver):\n",
    "    pageNumber = driver.find_element(By.CLASS_NAME, \"js-paging-select\").find_element(By.TAG_NAME, \"option\").text.split(\" / \")[1][:3]# 150頁    \n",
    "    return int(pageNumber)"
   ]
  },
  {
   "cell_type": "markdown",
   "metadata": {},
   "source": [
    "### Problem record\n",
    "- 爬完自動切換頁面時後會失敗\n"
   ]
  },
  {
   "cell_type": "code",
   "execution_count": 51,
   "metadata": {},
   "outputs": [
    {
     "name": "stdout",
     "output_type": "stream",
     "text": [
      "------------software intern------------\n",
      "AI Software Intern 人工智慧軟體實習生 (台北)\n",
      "Software Engineer, Intern / Part-time\n",
      "Software Engineer Intern /軟體開發實習生\n",
      "Software R&D intern (應屆畢業生有機會轉正聘用)\n",
      "實習軟體工程師 Software Engineer Intern\n",
      "〔Student Intern 學生實習專區〕System Software Engineer Intern- GPU Server\n",
      "Software Engineer Dev Intern (12 months at least, can start within 1 month)\n",
      "[學生實習 Student Intern ] System Software Engineering Intern - GPU- Taipei\n",
      "軟體開發工讀生 Software Developer Intern\n",
      "------------軟體實習生------------\n",
      "------------後端實習生------------\n"
     ]
    },
    {
     "ename": "ElementClickInterceptedException",
     "evalue": "Message: element click intercepted: Element <button class=\"b-btn b-btn--primary is-large gtm-main-search\" type=\"submit\">...</button> is not clickable at point (1027, 72). Other element would receive the click: <div class=\"b-block--loading\" id=\"js-action-overlay\" style=\"\">...</div>\n  (Session info: chrome=122.0.6261.57)\nStacktrace:\n0   chromedriver                        0x00000001010e8580 chromedriver + 3966336\n1   chromedriver                        0x00000001010e0b0c chromedriver + 3934988\n2   chromedriver                        0x0000000100d63da0 chromedriver + 277920\n3   chromedriver                        0x0000000100dabe68 chromedriver + 573032\n4   chromedriver                        0x0000000100daa3ec chromedriver + 566252\n5   chromedriver                        0x0000000100da856c chromedriver + 558444\n6   chromedriver                        0x0000000100da7a9c chromedriver + 555676\n7   chromedriver                        0x0000000100d9ce84 chromedriver + 511620\n8   chromedriver                        0x0000000100d9c8a8 chromedriver + 510120\n9   chromedriver                        0x0000000100ddebf0 chromedriver + 781296\n10  chromedriver                        0x0000000100d9afb0 chromedriver + 503728\n11  chromedriver                        0x0000000100d9ba28 chromedriver + 506408\n12  chromedriver                        0x00000001010ad768 chromedriver + 3725160\n13  chromedriver                        0x00000001010b1c5c chromedriver + 3742812\n14  chromedriver                        0x0000000101096250 chromedriver + 3629648\n15  chromedriver                        0x00000001010b2758 chromedriver + 3745624\n16  chromedriver                        0x00000001010895c8 chromedriver + 3577288\n17  chromedriver                        0x00000001010d0fb8 chromedriver + 3870648\n18  chromedriver                        0x00000001010d115c chromedriver + 3871068\n19  chromedriver                        0x00000001010e077c chromedriver + 3934076\n20  libsystem_pthread.dylib             0x0000000193f7bfa8 _pthread_start + 148\n21  libsystem_pthread.dylib             0x0000000193f76da0 thread_start + 8\n",
     "output_type": "error",
     "traceback": [
      "\u001b[0;31m---------------------------------------------------------------------------\u001b[0m",
      "\u001b[0;31mElementClickInterceptedException\u001b[0m          Traceback (most recent call last)",
      "Cell \u001b[0;32mIn[51], line 22\u001b[0m\n\u001b[1;32m     20\u001b[0m searchBox\u001b[38;5;241m.\u001b[39msend_keys(keyword)\n\u001b[1;32m     21\u001b[0m searchBoxEnter \u001b[38;5;241m=\u001b[39m driver\u001b[38;5;241m.\u001b[39mfind_element(By\u001b[38;5;241m.\u001b[39mCLASS_NAME, \u001b[38;5;124m\"\u001b[39m\u001b[38;5;124mb-btn--primary\u001b[39m\u001b[38;5;124m\"\u001b[39m)\n\u001b[0;32m---> 22\u001b[0m searchBoxEnter\u001b[38;5;241m.\u001b[39mclick()\n\u001b[1;32m     24\u001b[0m currentPage \u001b[38;5;241m=\u001b[39m \u001b[38;5;241m0\u001b[39m\n\u001b[1;32m     25\u001b[0m pageNumber \u001b[38;5;241m=\u001b[39m findPageNumber(driver)\n",
      "File \u001b[0;32m~/anaconda3/lib/python3.11/site-packages/selenium/webdriver/remote/webelement.py:93\u001b[0m, in \u001b[0;36mWebElement.click\u001b[0;34m(self)\u001b[0m\n\u001b[1;32m     91\u001b[0m \u001b[38;5;28;01mdef\u001b[39;00m \u001b[38;5;21mclick\u001b[39m(\u001b[38;5;28mself\u001b[39m) \u001b[38;5;241m-\u001b[39m\u001b[38;5;241m>\u001b[39m \u001b[38;5;28;01mNone\u001b[39;00m:\n\u001b[1;32m     92\u001b[0m \u001b[38;5;250m    \u001b[39m\u001b[38;5;124;03m\"\"\"Clicks the element.\"\"\"\u001b[39;00m\n\u001b[0;32m---> 93\u001b[0m     \u001b[38;5;28mself\u001b[39m\u001b[38;5;241m.\u001b[39m_execute(Command\u001b[38;5;241m.\u001b[39mCLICK_ELEMENT)\n",
      "File \u001b[0;32m~/anaconda3/lib/python3.11/site-packages/selenium/webdriver/remote/webelement.py:394\u001b[0m, in \u001b[0;36mWebElement._execute\u001b[0;34m(self, command, params)\u001b[0m\n\u001b[1;32m    392\u001b[0m     params \u001b[38;5;241m=\u001b[39m {}\n\u001b[1;32m    393\u001b[0m params[\u001b[38;5;124m\"\u001b[39m\u001b[38;5;124mid\u001b[39m\u001b[38;5;124m\"\u001b[39m] \u001b[38;5;241m=\u001b[39m \u001b[38;5;28mself\u001b[39m\u001b[38;5;241m.\u001b[39m_id\n\u001b[0;32m--> 394\u001b[0m \u001b[38;5;28;01mreturn\u001b[39;00m \u001b[38;5;28mself\u001b[39m\u001b[38;5;241m.\u001b[39m_parent\u001b[38;5;241m.\u001b[39mexecute(command, params)\n",
      "File \u001b[0;32m~/anaconda3/lib/python3.11/site-packages/selenium/webdriver/remote/webdriver.py:344\u001b[0m, in \u001b[0;36mWebDriver.execute\u001b[0;34m(self, driver_command, params)\u001b[0m\n\u001b[1;32m    342\u001b[0m response \u001b[38;5;241m=\u001b[39m \u001b[38;5;28mself\u001b[39m\u001b[38;5;241m.\u001b[39mcommand_executor\u001b[38;5;241m.\u001b[39mexecute(driver_command, params)\n\u001b[1;32m    343\u001b[0m \u001b[38;5;28;01mif\u001b[39;00m response:\n\u001b[0;32m--> 344\u001b[0m     \u001b[38;5;28mself\u001b[39m\u001b[38;5;241m.\u001b[39merror_handler\u001b[38;5;241m.\u001b[39mcheck_response(response)\n\u001b[1;32m    345\u001b[0m     response[\u001b[38;5;124m\"\u001b[39m\u001b[38;5;124mvalue\u001b[39m\u001b[38;5;124m\"\u001b[39m] \u001b[38;5;241m=\u001b[39m \u001b[38;5;28mself\u001b[39m\u001b[38;5;241m.\u001b[39m_unwrap_value(response\u001b[38;5;241m.\u001b[39mget(\u001b[38;5;124m\"\u001b[39m\u001b[38;5;124mvalue\u001b[39m\u001b[38;5;124m\"\u001b[39m, \u001b[38;5;28;01mNone\u001b[39;00m))\n\u001b[1;32m    346\u001b[0m     \u001b[38;5;28;01mreturn\u001b[39;00m response\n",
      "File \u001b[0;32m~/anaconda3/lib/python3.11/site-packages/selenium/webdriver/remote/errorhandler.py:229\u001b[0m, in \u001b[0;36mErrorHandler.check_response\u001b[0;34m(self, response)\u001b[0m\n\u001b[1;32m    227\u001b[0m         alert_text \u001b[38;5;241m=\u001b[39m value[\u001b[38;5;124m\"\u001b[39m\u001b[38;5;124malert\u001b[39m\u001b[38;5;124m\"\u001b[39m]\u001b[38;5;241m.\u001b[39mget(\u001b[38;5;124m\"\u001b[39m\u001b[38;5;124mtext\u001b[39m\u001b[38;5;124m\"\u001b[39m)\n\u001b[1;32m    228\u001b[0m     \u001b[38;5;28;01mraise\u001b[39;00m exception_class(message, screen, stacktrace, alert_text)  \u001b[38;5;66;03m# type: ignore[call-arg]  # mypy is not smart enough here\u001b[39;00m\n\u001b[0;32m--> 229\u001b[0m \u001b[38;5;28;01mraise\u001b[39;00m exception_class(message, screen, stacktrace)\n",
      "\u001b[0;31mElementClickInterceptedException\u001b[0m: Message: element click intercepted: Element <button class=\"b-btn b-btn--primary is-large gtm-main-search\" type=\"submit\">...</button> is not clickable at point (1027, 72). Other element would receive the click: <div class=\"b-block--loading\" id=\"js-action-overlay\" style=\"\">...</div>\n  (Session info: chrome=122.0.6261.57)\nStacktrace:\n0   chromedriver                        0x00000001010e8580 chromedriver + 3966336\n1   chromedriver                        0x00000001010e0b0c chromedriver + 3934988\n2   chromedriver                        0x0000000100d63da0 chromedriver + 277920\n3   chromedriver                        0x0000000100dabe68 chromedriver + 573032\n4   chromedriver                        0x0000000100daa3ec chromedriver + 566252\n5   chromedriver                        0x0000000100da856c chromedriver + 558444\n6   chromedriver                        0x0000000100da7a9c chromedriver + 555676\n7   chromedriver                        0x0000000100d9ce84 chromedriver + 511620\n8   chromedriver                        0x0000000100d9c8a8 chromedriver + 510120\n9   chromedriver                        0x0000000100ddebf0 chromedriver + 781296\n10  chromedriver                        0x0000000100d9afb0 chromedriver + 503728\n11  chromedriver                        0x0000000100d9ba28 chromedriver + 506408\n12  chromedriver                        0x00000001010ad768 chromedriver + 3725160\n13  chromedriver                        0x00000001010b1c5c chromedriver + 3742812\n14  chromedriver                        0x0000000101096250 chromedriver + 3629648\n15  chromedriver                        0x00000001010b2758 chromedriver + 3745624\n16  chromedriver                        0x00000001010895c8 chromedriver + 3577288\n17  chromedriver                        0x00000001010d0fb8 chromedriver + 3870648\n18  chromedriver                        0x00000001010d115c chromedriver + 3871068\n19  chromedriver                        0x00000001010e077c chromedriver + 3934076\n20  libsystem_pthread.dylib             0x0000000193f7bfa8 _pthread_start + 148\n21  libsystem_pthread.dylib             0x0000000193f76da0 thread_start + 8\n"
     ]
    }
   ],
   "source": [
    "driver = webdriver.Chrome()\n",
    "\n",
    "# 進入104 首頁\n",
    "# driver.get(\"https://www.google.com/\")\n",
    "driver.get(\"https://www.104.com.tw/jobs/main/\")\n",
    "driver.implicitly_wait(2) # Loading wait⋯\n",
    "\n",
    "# 輸入要查詢的工作內容\n",
    "keyWords = driver.find_element(By.CLASS_NAME, \"form-control\")\n",
    "keyWords.send_keys(\"test\")\n",
    "searchBtn = driver.find_element(By.CLASS_NAME, \"btn-secondary\")\n",
    "searchBtn.click()\n",
    "\n",
    "# 開始搜索符合條件的工作\n",
    "jobs = [] # array to store dict results\n",
    "for keyword in searchKeyWords:\n",
    "    print(\"------------{}------------\".format(keyword))\n",
    "    searchBox = driver.find_element(By.ID, \"keyword\")\n",
    "    searchBox.clear()\n",
    "    searchBox.send_keys(keyword)\n",
    "    searchBoxEnter = driver.find_element(By.CLASS_NAME, \"b-btn--primary\")\n",
    "    searchBoxEnter.click()\n",
    "    \n",
    "    currentPage = 0\n",
    "    pageNumber = findPageNumber(driver)\n",
    "\n",
    "    while currentPage != 5:\n",
    "        jobs_parent = driver.find_element(By.ID, \"js-job-content\")\n",
    "        jobs_per_page = jobs_parent.find_elements(By.TAG_NAME, \"article\")\n",
    "        for job in jobs_per_page:\n",
    "            if containOrNot(job, jobDescription):\n",
    "                jobNameList = [i[\"name\"] for i in jobs]\n",
    "                if job.get_attribute(\"data-job-name\") not in jobNameList:\n",
    "                    jobs.append({\n",
    "                        \"name\": job.get_attribute(\"data-job-name\"),\n",
    "                        \"company\": job.get_attribute(\"data-cust-name\")\n",
    "                    }) \n",
    "                    print(job.get_attribute(\"data-job-name\"))\n",
    "                    \n",
    "        time.sleep(2)\n",
    "        nextPageBtn = driver.find_element(By.CLASS_NAME, \"js-next-page\")\n",
    "        nextPageBtn.click()\n",
    "        currentPage += 1\n",
    "    \n",
    "# Save the results\n",
    "dfJobs = pd.DataFrame(jobs)\n",
    "dfJobs.to_csv(\"test.csv\")\n",
    "\n",
    "# end\n",
    "driver.close()"
   ]
  },
  {
   "cell_type": "code",
   "execution_count": null,
   "metadata": {},
   "outputs": [
    {
     "data": {
      "text/html": [
       "<div>\n",
       "<style scoped>\n",
       "    .dataframe tbody tr th:only-of-type {\n",
       "        vertical-align: middle;\n",
       "    }\n",
       "\n",
       "    .dataframe tbody tr th {\n",
       "        vertical-align: top;\n",
       "    }\n",
       "\n",
       "    .dataframe thead th {\n",
       "        text-align: right;\n",
       "    }\n",
       "</style>\n",
       "<table border=\"1\" class=\"dataframe\">\n",
       "  <thead>\n",
       "    <tr style=\"text-align: right;\">\n",
       "      <th></th>\n",
       "      <th>name</th>\n",
       "      <th>company</th>\n",
       "    </tr>\n",
       "  </thead>\n",
       "  <tbody>\n",
       "    <tr>\n",
       "      <th>0</th>\n",
       "      <td>Software Engineer, Intern / Part-time</td>\n",
       "      <td>臺灣發展軟體科技股份有限公司</td>\n",
       "    </tr>\n",
       "    <tr>\n",
       "      <th>1</th>\n",
       "      <td>Software R&amp;amp;D intern (應屆畢業生有機會轉正聘用)</td>\n",
       "      <td>美商海鸚科技股份有限公司台灣分公司</td>\n",
       "    </tr>\n",
       "    <tr>\n",
       "      <th>2</th>\n",
       "      <td>Software Engineer Intern / \b軟體開發實習生</td>\n",
       "      <td>自由食間_滿食空股份有限公司</td>\n",
       "    </tr>\n",
       "    <tr>\n",
       "      <th>3</th>\n",
       "      <td>Software Engineer Dev Intern (12 months at lea...</td>\n",
       "      <td>英屬開曼群島商庫幣科技有限公司台灣分公司</td>\n",
       "    </tr>\n",
       "    <tr>\n",
       "      <th>4</th>\n",
       "      <td>Software Engineer, Intern / Part-time</td>\n",
       "      <td>臺灣發展軟體科技股份有限公司</td>\n",
       "    </tr>\n",
       "    <tr>\n",
       "      <th>5</th>\n",
       "      <td>Software R&amp;amp;D intern (應屆畢業生有機會轉正聘用)</td>\n",
       "      <td>美商海鸚科技股份有限公司台灣分公司</td>\n",
       "    </tr>\n",
       "    <tr>\n",
       "      <th>6</th>\n",
       "      <td>Software Engineer Intern / \b軟體開發實習生</td>\n",
       "      <td>自由食間_滿食空股份有限公司</td>\n",
       "    </tr>\n",
       "    <tr>\n",
       "      <th>7</th>\n",
       "      <td>Software Engineer Dev Intern (12 months at lea...</td>\n",
       "      <td>英屬開曼群島商庫幣科技有限公司台灣分公司</td>\n",
       "    </tr>\n",
       "    <tr>\n",
       "      <th>8</th>\n",
       "      <td>Software R&amp;D Intern 軟體研發實習生【Quanta Vision 2024...</td>\n",
       "      <td>光大科技股份有限公司</td>\n",
       "    </tr>\n",
       "    <tr>\n",
       "      <th>9</th>\n",
       "      <td>Software Engineering Intern (QA)</td>\n",
       "      <td>CommScope Ruckus_台灣康普通信系統有限公司</td>\n",
       "    </tr>\n",
       "    <tr>\n",
       "      <th>10</th>\n",
       "      <td>Software Engineering Intern (Cloud)</td>\n",
       "      <td>CommScope Ruckus_台灣康普通信系統有限公司</td>\n",
       "    </tr>\n",
       "    <tr>\n",
       "      <th>11</th>\n",
       "      <td>實習 - 資料科學分析師 Data Scientist R&amp;D Intern - 人工智慧科...</td>\n",
       "      <td>國泰金控_國泰金融控股股份有限公司</td>\n",
       "    </tr>\n",
       "  </tbody>\n",
       "</table>\n",
       "</div>"
      ],
      "text/plain": [
       "                                                 name  \\\n",
       "0               Software Engineer, Intern / Part-time   \n",
       "1              Software R&amp;D intern (應屆畢業生有機會轉正聘用)   \n",
       "2                 Software Engineer Intern / \b軟體開發實習生   \n",
       "3   Software Engineer Dev Intern (12 months at lea...   \n",
       "4               Software Engineer, Intern / Part-time   \n",
       "5              Software R&amp;D intern (應屆畢業生有機會轉正聘用)   \n",
       "6                 Software Engineer Intern / \b軟體開發實習生   \n",
       "7   Software Engineer Dev Intern (12 months at lea...   \n",
       "8   Software R&D Intern 軟體研發實習生【Quanta Vision 2024...   \n",
       "9                    Software Engineering Intern (QA)   \n",
       "10                Software Engineering Intern (Cloud)   \n",
       "11  實習 - 資料科學分析師 Data Scientist R&D Intern - 人工智慧科...   \n",
       "\n",
       "                          company  \n",
       "0                  臺灣發展軟體科技股份有限公司  \n",
       "1               美商海鸚科技股份有限公司台灣分公司  \n",
       "2                  自由食間_滿食空股份有限公司  \n",
       "3            英屬開曼群島商庫幣科技有限公司台灣分公司  \n",
       "4                  臺灣發展軟體科技股份有限公司  \n",
       "5               美商海鸚科技股份有限公司台灣分公司  \n",
       "6                  自由食間_滿食空股份有限公司  \n",
       "7            英屬開曼群島商庫幣科技有限公司台灣分公司  \n",
       "8                      光大科技股份有限公司  \n",
       "9   CommScope Ruckus_台灣康普通信系統有限公司  \n",
       "10  CommScope Ruckus_台灣康普通信系統有限公司  \n",
       "11              國泰金控_國泰金融控股股份有限公司  "
      ]
     },
     "execution_count": 67,
     "metadata": {},
     "output_type": "execute_result"
    }
   ],
   "source": [
    "dfJobs = pd.DataFrame(jobs)\n",
    "dfJobs\n",
    "# dfJobs.to_csv(\"./test.csv\")"
   ]
  },
  {
   "cell_type": "markdown",
   "metadata": {},
   "source": [
    "---"
   ]
  },
  {
   "cell_type": "code",
   "execution_count": null,
   "metadata": {},
   "outputs": [
    {
     "name": "stdout",
     "output_type": "stream",
     "text": [
      "第 1 / 150 頁\n"
     ]
    }
   ],
   "source": [
    "driver = webdriver.Chrome()\n",
    "\n",
    "# 進入104 首頁\n",
    "# driver.get(\"https://www.google.com/\")\n",
    "driver.get(\"https://www.104.com.tw/jobs/main/\")\n",
    "driver.implicitly_wait(2) # Loading wait⋯\n",
    "\n",
    "# 輸入要查詢的工作內容\n",
    "keyWords = driver.find_element(By.CLASS_NAME, \"form-control\")\n",
    "keyWords.send_keys(\"software intern\")\n",
    "searchBtn = driver.find_element(By.CLASS_NAME, \"btn-secondary\")\n",
    "searchBtn.click()\n",
    "\n",
    "currentPage = driver.find_element(By.CLASS_NAME, \"js-paging-select\").find_element(By.TAG_NAME, \"option\").text\n",
    "print(currentPage)"
   ]
  },
  {
   "cell_type": "code",
   "execution_count": null,
   "metadata": {},
   "outputs": [
    {
     "name": "stdout",
     "output_type": "stream",
     "text": [
      "150\n"
     ]
    }
   ],
   "source": [
    "import re\n",
    "\n",
    "# 假設你已經有了字符串 '150 頁'\n",
    "text = '150 頁'\n",
    "\n",
    "# 使用正規表達式找到字符串中的數字部分\n",
    "match = re.search(r'\\d+', text)\n",
    "\n",
    "# 如果找到了數字，就取出來\n",
    "if match:\n",
    "    number = match.group()\n",
    "    print(number)"
   ]
  },
  {
   "cell_type": "code",
   "execution_count": 37,
   "metadata": {},
   "outputs": [
    {
     "data": {
      "text/plain": [
       "[{'name': 'AI Software Intern 人工智慧軟體實習生 (台北)', 'company': '立達軟體科技股份有限公司'}]"
      ]
     },
     "execution_count": 37,
     "metadata": {},
     "output_type": "execute_result"
    }
   ],
   "source": [
    "jobs"
   ]
  },
  {
   "cell_type": "code",
   "execution_count": 48,
   "metadata": {},
   "outputs": [
    {
     "data": {
      "text/plain": [
       "[{'a': 1}, {'b': 2}]"
      ]
     },
     "execution_count": 48,
     "metadata": {},
     "output_type": "execute_result"
    }
   ],
   "source": [
    "aDict = [{\"a\": 1}, {\"b\": 2}]\n",
    "aList = [ for i in aDict]\n",
    "aList"
   ]
  },
  {
   "cell_type": "code",
   "execution_count": 50,
   "metadata": {},
   "outputs": [
    {
     "data": {
      "text/plain": [
       "['AI Software Intern 人工智慧軟體實習生 (台北)']"
      ]
     },
     "execution_count": 50,
     "metadata": {},
     "output_type": "execute_result"
    }
   ],
   "source": [
    "jobs\n",
    "[]\n",
    "jobNameList = [i[\"name\"] for i in jobs]\n",
    "jobNameList"
   ]
  },
  {
   "cell_type": "code",
   "execution_count": null,
   "metadata": {},
   "outputs": [],
   "source": []
  }
 ],
 "metadata": {
  "kernelspec": {
   "display_name": "base",
   "language": "python",
   "name": "python3"
  },
  "language_info": {
   "codemirror_mode": {
    "name": "ipython",
    "version": 3
   },
   "file_extension": ".py",
   "mimetype": "text/x-python",
   "name": "python",
   "nbconvert_exporter": "python",
   "pygments_lexer": "ipython3",
   "version": "3.11.3"
  }
 },
 "nbformat": 4,
 "nbformat_minor": 2
}
