{
 "cells": [
  {
   "cell_type": "code",
   "execution_count": 31,
   "metadata": {},
   "outputs": [],
   "source": [
    "import requests\n",
    "import time\n",
    "from dotenv import load_dotenv\n",
    "import pandas as pd\n",
    "\n",
    "from selenium import webdriver\n",
    "from selenium.webdriver.support.ui import WebDriverWait\n",
    "from selenium.webdriver.support import expected_conditions as EC\n",
    "from selenium.webdriver.common.keys import Keys\n",
    "from selenium.webdriver.common.by import By\n",
    "from selenium.webdriver.support.select import Select\n",
    "from bs4 import BeautifulSoup"
   ]
  },
  {
   "cell_type": "markdown",
   "metadata": {},
   "source": [
    "## \n",
    "\n",
    "---"
   ]
  },
  {
   "cell_type": "code",
   "execution_count": 23,
   "metadata": {},
   "outputs": [],
   "source": [
    "# Initailize\n",
    "jobDescription = [\"software\",\n",
    "                  \"software intern\",\n",
    "                  \"software development intern\",\n",
    "                  \"software developer\",\n",
    "                  \"SDET\",\n",
    "                  \"軟體實習生\",\n",
    "                  \"軟體測試實習生\",\n",
    "                  \"data analytics\",\n",
    "                  \"data science\"]\n"
   ]
  },
  {
   "cell_type": "code",
   "execution_count": 30,
   "metadata": {},
   "outputs": [],
   "source": [
    "def containOrNot(job, jobDescription: list):\n",
    "    \"\"\"\n",
    "    \n",
    "    \"\"\"\n",
    "    tokenList = job.get_attribute(\"data-job-name\").split(\" \")\n",
    "    for token in tokenList:\n",
    "        # if token in jobDescription:\n",
    "        #     return True\n",
    "        # else:\n",
    "        #     return False\n",
    "        flag = True if token in jobDescription else False\n",
    "        return flag"
   ]
  },
  {
   "cell_type": "code",
   "execution_count": 33,
   "metadata": {},
   "outputs": [
    {
     "ename": "ElementNotInteractableException",
     "evalue": "Message: element not interactable\n  (Session info: chrome=121.0.6167.184)\nStacktrace:\n0   chromedriver                        0x00000001047ee814 chromedriver + 4040724\n1   chromedriver                        0x00000001047e6a18 chromedriver + 4008472\n2   chromedriver                        0x00000001044596a8 chromedriver + 284328\n3   chromedriver                        0x000000010449e330 chromedriver + 566064\n4   chromedriver                        0x00000001044934b8 chromedriver + 521400\n5   chromedriver                        0x0000000104492ee8 chromedriver + 519912\n6   chromedriver                        0x00000001044d7048 chromedriver + 798792\n7   chromedriver                        0x000000010449174c chromedriver + 513868\n8   chromedriver                        0x0000000104492044 chromedriver + 516164\n9   chromedriver                        0x00000001047b3a3c chromedriver + 3799612\n10  chromedriver                        0x00000001047b7f1c chromedriver + 3817244\n11  chromedriver                        0x000000010479c298 chromedriver + 3703448\n12  chromedriver                        0x00000001047b8a64 chromedriver + 3820132\n13  chromedriver                        0x000000010478f054 chromedriver + 3649620\n14  chromedriver                        0x00000001047d5e74 chromedriver + 3939956\n15  chromedriver                        0x00000001047d5fec chromedriver + 3940332\n16  chromedriver                        0x00000001047e6698 chromedriver + 4007576\n17  libsystem_pthread.dylib             0x000000019d57bfa8 _pthread_start + 148\n18  libsystem_pthread.dylib             0x000000019d576da0 thread_start + 8\n",
     "output_type": "error",
     "traceback": [
      "\u001b[0;31m---------------------------------------------------------------------------\u001b[0m",
      "\u001b[0;31mElementNotInteractableException\u001b[0m           Traceback (most recent call last)",
      "Cell \u001b[0;32mIn[33], line 29\u001b[0m\n\u001b[1;32m     27\u001b[0m     time\u001b[38;5;241m.\u001b[39msleep(\u001b[38;5;241m1\u001b[39m)\n\u001b[1;32m     28\u001b[0m     nextPageBtn \u001b[38;5;241m=\u001b[39m driver\u001b[38;5;241m.\u001b[39mfind_element(By\u001b[38;5;241m.\u001b[39mCLASS_NAME, \u001b[38;5;124m\"\u001b[39m\u001b[38;5;124mjs-next-page\u001b[39m\u001b[38;5;124m\"\u001b[39m)\n\u001b[0;32m---> 29\u001b[0m     nextPageBtn\u001b[38;5;241m.\u001b[39mclick()\n\u001b[1;32m     32\u001b[0m \u001b[38;5;66;03m# Save the results\u001b[39;00m\n\u001b[1;32m     33\u001b[0m dfJobs \u001b[38;5;241m=\u001b[39m pd\u001b[38;5;241m.\u001b[39mDataFrame(jobs)\n",
      "File \u001b[0;32m~/anaconda3/lib/python3.11/site-packages/selenium/webdriver/remote/webelement.py:93\u001b[0m, in \u001b[0;36mWebElement.click\u001b[0;34m(self)\u001b[0m\n\u001b[1;32m     91\u001b[0m \u001b[38;5;28;01mdef\u001b[39;00m \u001b[38;5;21mclick\u001b[39m(\u001b[38;5;28mself\u001b[39m) \u001b[38;5;241m-\u001b[39m\u001b[38;5;241m>\u001b[39m \u001b[38;5;28;01mNone\u001b[39;00m:\n\u001b[1;32m     92\u001b[0m \u001b[38;5;250m    \u001b[39m\u001b[38;5;124;03m\"\"\"Clicks the element.\"\"\"\u001b[39;00m\n\u001b[0;32m---> 93\u001b[0m     \u001b[38;5;28mself\u001b[39m\u001b[38;5;241m.\u001b[39m_execute(Command\u001b[38;5;241m.\u001b[39mCLICK_ELEMENT)\n",
      "File \u001b[0;32m~/anaconda3/lib/python3.11/site-packages/selenium/webdriver/remote/webelement.py:394\u001b[0m, in \u001b[0;36mWebElement._execute\u001b[0;34m(self, command, params)\u001b[0m\n\u001b[1;32m    392\u001b[0m     params \u001b[38;5;241m=\u001b[39m {}\n\u001b[1;32m    393\u001b[0m params[\u001b[38;5;124m\"\u001b[39m\u001b[38;5;124mid\u001b[39m\u001b[38;5;124m\"\u001b[39m] \u001b[38;5;241m=\u001b[39m \u001b[38;5;28mself\u001b[39m\u001b[38;5;241m.\u001b[39m_id\n\u001b[0;32m--> 394\u001b[0m \u001b[38;5;28;01mreturn\u001b[39;00m \u001b[38;5;28mself\u001b[39m\u001b[38;5;241m.\u001b[39m_parent\u001b[38;5;241m.\u001b[39mexecute(command, params)\n",
      "File \u001b[0;32m~/anaconda3/lib/python3.11/site-packages/selenium/webdriver/remote/webdriver.py:344\u001b[0m, in \u001b[0;36mWebDriver.execute\u001b[0;34m(self, driver_command, params)\u001b[0m\n\u001b[1;32m    342\u001b[0m response \u001b[38;5;241m=\u001b[39m \u001b[38;5;28mself\u001b[39m\u001b[38;5;241m.\u001b[39mcommand_executor\u001b[38;5;241m.\u001b[39mexecute(driver_command, params)\n\u001b[1;32m    343\u001b[0m \u001b[38;5;28;01mif\u001b[39;00m response:\n\u001b[0;32m--> 344\u001b[0m     \u001b[38;5;28mself\u001b[39m\u001b[38;5;241m.\u001b[39merror_handler\u001b[38;5;241m.\u001b[39mcheck_response(response)\n\u001b[1;32m    345\u001b[0m     response[\u001b[38;5;124m\"\u001b[39m\u001b[38;5;124mvalue\u001b[39m\u001b[38;5;124m\"\u001b[39m] \u001b[38;5;241m=\u001b[39m \u001b[38;5;28mself\u001b[39m\u001b[38;5;241m.\u001b[39m_unwrap_value(response\u001b[38;5;241m.\u001b[39mget(\u001b[38;5;124m\"\u001b[39m\u001b[38;5;124mvalue\u001b[39m\u001b[38;5;124m\"\u001b[39m, \u001b[38;5;28;01mNone\u001b[39;00m))\n\u001b[1;32m    346\u001b[0m     \u001b[38;5;28;01mreturn\u001b[39;00m response\n",
      "File \u001b[0;32m~/anaconda3/lib/python3.11/site-packages/selenium/webdriver/remote/errorhandler.py:229\u001b[0m, in \u001b[0;36mErrorHandler.check_response\u001b[0;34m(self, response)\u001b[0m\n\u001b[1;32m    227\u001b[0m         alert_text \u001b[38;5;241m=\u001b[39m value[\u001b[38;5;124m\"\u001b[39m\u001b[38;5;124malert\u001b[39m\u001b[38;5;124m\"\u001b[39m]\u001b[38;5;241m.\u001b[39mget(\u001b[38;5;124m\"\u001b[39m\u001b[38;5;124mtext\u001b[39m\u001b[38;5;124m\"\u001b[39m)\n\u001b[1;32m    228\u001b[0m     \u001b[38;5;28;01mraise\u001b[39;00m exception_class(message, screen, stacktrace, alert_text)  \u001b[38;5;66;03m# type: ignore[call-arg]  # mypy is not smart enough here\u001b[39;00m\n\u001b[0;32m--> 229\u001b[0m \u001b[38;5;28;01mraise\u001b[39;00m exception_class(message, screen, stacktrace)\n",
      "\u001b[0;31mElementNotInteractableException\u001b[0m: Message: element not interactable\n  (Session info: chrome=121.0.6167.184)\nStacktrace:\n0   chromedriver                        0x00000001047ee814 chromedriver + 4040724\n1   chromedriver                        0x00000001047e6a18 chromedriver + 4008472\n2   chromedriver                        0x00000001044596a8 chromedriver + 284328\n3   chromedriver                        0x000000010449e330 chromedriver + 566064\n4   chromedriver                        0x00000001044934b8 chromedriver + 521400\n5   chromedriver                        0x0000000104492ee8 chromedriver + 519912\n6   chromedriver                        0x00000001044d7048 chromedriver + 798792\n7   chromedriver                        0x000000010449174c chromedriver + 513868\n8   chromedriver                        0x0000000104492044 chromedriver + 516164\n9   chromedriver                        0x00000001047b3a3c chromedriver + 3799612\n10  chromedriver                        0x00000001047b7f1c chromedriver + 3817244\n11  chromedriver                        0x000000010479c298 chromedriver + 3703448\n12  chromedriver                        0x00000001047b8a64 chromedriver + 3820132\n13  chromedriver                        0x000000010478f054 chromedriver + 3649620\n14  chromedriver                        0x00000001047d5e74 chromedriver + 3939956\n15  chromedriver                        0x00000001047d5fec chromedriver + 3940332\n16  chromedriver                        0x00000001047e6698 chromedriver + 4007576\n17  libsystem_pthread.dylib             0x000000019d57bfa8 _pthread_start + 148\n18  libsystem_pthread.dylib             0x000000019d576da0 thread_start + 8\n"
     ]
    }
   ],
   "source": [
    "driver = webdriver.Chrome()\n",
    "\n",
    "# 進入104 首頁\n",
    "# driver.get(\"https://www.google.com/\")\n",
    "driver.get(\"https://www.104.com.tw/jobs/main/\")\n",
    "driver.implicitly_wait(2) # Loading wait⋯\n",
    "\n",
    "# 輸入要查詢的工作內容\n",
    "keyWords = driver.find_element(By.CLASS_NAME, \"form-control\")\n",
    "keyWords.send_keys(\"software intern\")\n",
    "searchBtn = driver.find_element(By.CLASS_NAME, \"btn-secondary\")\n",
    "searchBtn.click()\n",
    "\n",
    "# 開始搜索符合條件的工作\n",
    "jobs = [] # array to store dict results\n",
    "nextPageBtn = driver.find_element(By.CLASS_NAME, \"js-next-page\")\n",
    "while nextPageBtn:\n",
    "    jobs_parent = driver.find_element(By.ID, \"js-job-content\")\n",
    "    jobs_per_page = jobs_parent.find_elements(By.TAG_NAME, \"article\")\n",
    "    for job in jobs_per_page:\n",
    "        if containOrNot(job, jobDescription):\n",
    "            jobs.append({\n",
    "                \"name\": job.get_attribute(\"data-job-name\"),\n",
    "                \"company\": job.get_attribute(\"data-cust-name\")\n",
    "            }) \n",
    "            print(job.get_attribute(\"data-job-name\"))\n",
    "    \n",
    "    time.sleep(2)\n",
    "    nextPageBtn = driver.find_element(By.CLASS_NAME, \"js-next-page\")\n",
    "    nextPageBtn.click()\n",
    "    \n",
    "    \n",
    "# Save the results\n",
    "dfJobs = pd.DataFrame(jobs)\n",
    "dfJobs.to_csv(\"test.csv\")\n",
    "\n",
    "# end\n",
    "driver.close()"
   ]
  },
  {
   "cell_type": "code",
   "execution_count": 27,
   "metadata": {},
   "outputs": [
    {
     "data": {
      "text/plain": [
       "False"
      ]
     },
     "execution_count": 27,
     "metadata": {},
     "output_type": "execute_result"
    }
   ],
   "source": [
    "testStr = \"AI Software Intern 人工智慧軟體實習生 (台北)\"\n",
    "jobDescription in testStr.split(\" \")"
   ]
  },
  {
   "cell_type": "code",
   "execution_count": 38,
   "metadata": {},
   "outputs": [
    {
     "data": {
      "text/html": [
       "<div>\n",
       "<style scoped>\n",
       "    .dataframe tbody tr th:only-of-type {\n",
       "        vertical-align: middle;\n",
       "    }\n",
       "\n",
       "    .dataframe tbody tr th {\n",
       "        vertical-align: top;\n",
       "    }\n",
       "\n",
       "    .dataframe thead th {\n",
       "        text-align: right;\n",
       "    }\n",
       "</style>\n",
       "<table border=\"1\" class=\"dataframe\">\n",
       "  <thead>\n",
       "    <tr style=\"text-align: right;\">\n",
       "      <th></th>\n",
       "      <th>name</th>\n",
       "      <th>company</th>\n",
       "    </tr>\n",
       "  </thead>\n",
       "  <tbody>\n",
       "    <tr>\n",
       "      <th>0</th>\n",
       "      <td>AI Software Intern 人工智慧軟體實習生 (台北)</td>\n",
       "      <td>立達軟體科技股份有限公司</td>\n",
       "    </tr>\n",
       "    <tr>\n",
       "      <th>1</th>\n",
       "      <td>Software Engineer, Intern / Part-time</td>\n",
       "      <td>臺灣發展軟體科技股份有限公司</td>\n",
       "    </tr>\n",
       "    <tr>\n",
       "      <th>2</th>\n",
       "      <td>Software R&amp;amp;D intern (應屆畢業生有機會轉正聘用)</td>\n",
       "      <td>美商海鸚科技股份有限公司台灣分公司</td>\n",
       "    </tr>\n",
       "    <tr>\n",
       "      <th>3</th>\n",
       "      <td>Software Engineer Intern / \b軟體開發實習生</td>\n",
       "      <td>自由食間_滿食空股份有限公司</td>\n",
       "    </tr>\n",
       "    <tr>\n",
       "      <th>4</th>\n",
       "      <td>Software Engineer Dev Intern (12 months at lea...</td>\n",
       "      <td>英屬開曼群島商庫幣科技有限公司台灣分公司</td>\n",
       "    </tr>\n",
       "    <tr>\n",
       "      <th>...</th>\n",
       "      <td>...</td>\n",
       "      <td>...</td>\n",
       "    </tr>\n",
       "    <tr>\n",
       "      <th>196</th>\n",
       "      <td>Software Product Manager-Broadband (Tucheng/Hs...</td>\n",
       "      <td>鴻海精密工業股份有限公司</td>\n",
       "    </tr>\n",
       "    <tr>\n",
       "      <th>197</th>\n",
       "      <td>Software Quality Assurance Engineer (R-Sanxia)</td>\n",
       "      <td>音律電子股份有限公司</td>\n",
       "    </tr>\n",
       "    <tr>\n",
       "      <th>198</th>\n",
       "      <td>AI Engineer (Computer Vision and Generative AI...</td>\n",
       "      <td>訊連科技股份有限公司</td>\n",
       "    </tr>\n",
       "    <tr>\n",
       "      <th>199</th>\n",
       "      <td>Software Engineer</td>\n",
       "      <td>晶心科技股份有限公司</td>\n",
       "    </tr>\n",
       "    <tr>\n",
       "      <th>200</th>\n",
       "      <td>AI Software Platform Engineering-Staff to Sr. ...</td>\n",
       "      <td>Qualcomm Semiconductor Corporation_高通半導體有限公司</td>\n",
       "    </tr>\n",
       "  </tbody>\n",
       "</table>\n",
       "<p>201 rows × 2 columns</p>\n",
       "</div>"
      ],
      "text/plain": [
       "                                                  name  \\\n",
       "0                    AI Software Intern 人工智慧軟體實習生 (台北)   \n",
       "1                Software Engineer, Intern / Part-time   \n",
       "2               Software R&amp;D intern (應屆畢業生有機會轉正聘用)   \n",
       "3                  Software Engineer Intern / \b軟體開發實習生   \n",
       "4    Software Engineer Dev Intern (12 months at lea...   \n",
       "..                                                 ...   \n",
       "196  Software Product Manager-Broadband (Tucheng/Hs...   \n",
       "197     Software Quality Assurance Engineer (R-Sanxia)   \n",
       "198  AI Engineer (Computer Vision and Generative AI...   \n",
       "199                                  Software Engineer   \n",
       "200  AI Software Platform Engineering-Staff to Sr. ...   \n",
       "\n",
       "                                          company  \n",
       "0                                    立達軟體科技股份有限公司  \n",
       "1                                  臺灣發展軟體科技股份有限公司  \n",
       "2                               美商海鸚科技股份有限公司台灣分公司  \n",
       "3                                  自由食間_滿食空股份有限公司  \n",
       "4                            英屬開曼群島商庫幣科技有限公司台灣分公司  \n",
       "..                                            ...  \n",
       "196                                  鴻海精密工業股份有限公司  \n",
       "197                                    音律電子股份有限公司  \n",
       "198                                    訊連科技股份有限公司  \n",
       "199                                    晶心科技股份有限公司  \n",
       "200  Qualcomm Semiconductor Corporation_高通半導體有限公司  \n",
       "\n",
       "[201 rows x 2 columns]"
      ]
     },
     "execution_count": 38,
     "metadata": {},
     "output_type": "execute_result"
    }
   ],
   "source": [
    "dfJobs = pd.DataFrame(jobs)\n",
    "dfJobs\n",
    "# dfJobs.to_csv(\"./test.csv\")"
   ]
  },
  {
   "cell_type": "code",
   "execution_count": null,
   "metadata": {},
   "outputs": [],
   "source": []
  }
 ],
 "metadata": {
  "kernelspec": {
   "display_name": "base",
   "language": "python",
   "name": "python3"
  },
  "language_info": {
   "codemirror_mode": {
    "name": "ipython",
    "version": 3
   },
   "file_extension": ".py",
   "mimetype": "text/x-python",
   "name": "python",
   "nbconvert_exporter": "python",
   "pygments_lexer": "ipython3",
   "version": "3.11.3"
  }
 },
 "nbformat": 4,
 "nbformat_minor": 2
}
