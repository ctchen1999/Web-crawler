{
 "cells": [
  {
   "cell_type": "code",
   "execution_count": null,
   "metadata": {},
   "outputs": [],
   "source": [
    "# !pip install selenium"
   ]
  },
  {
   "cell_type": "code",
   "execution_count": 9,
   "metadata": {},
   "outputs": [],
   "source": [
    "import requests\n",
    "from selenium import webdriver\n",
    "from selenium.webdriver.common.by import By\n",
    "from bs4 import BeautifulSoup\n",
    "import time"
   ]
  },
  {
   "cell_type": "code",
   "execution_count": 54,
   "metadata": {},
   "outputs": [
    {
     "ename": "NoSuchElementException",
     "evalue": "Message: no such element: Unable to locate element: {\"method\":\"css selector\",\"selector\":\".Button-sc-1dqy6lx-0 hIZnWq\"}\n  (Session info: chrome=118.0.5993.117); For documentation on this error, please visit: https://www.selenium.dev/documentation/webdriver/troubleshooting/errors#no-such-element-exception\nStacktrace:\n0   chromedriver                        0x0000000104f94510 chromedriver + 4310288\n1   chromedriver                        0x0000000104f8c4bc chromedriver + 4277436\n2   chromedriver                        0x0000000104bbfb6c chromedriver + 293740\n3   chromedriver                        0x0000000104c05040 chromedriver + 577600\n4   chromedriver                        0x0000000104c3fe60 chromedriver + 818784\n5   chromedriver                        0x0000000104bf8fd0 chromedriver + 528336\n6   chromedriver                        0x0000000104bf9e7c chromedriver + 532092\n7   chromedriver                        0x0000000104f5a834 chromedriver + 4073524\n8   chromedriver                        0x0000000104f5e7fc chromedriver + 4089852\n9   chromedriver                        0x0000000104f5ec58 chromedriver + 4090968\n10  chromedriver                        0x0000000104f648f8 chromedriver + 4114680\n11  chromedriver                        0x0000000104f5f234 chromedriver + 4092468\n12  chromedriver                        0x0000000104f39604 chromedriver + 3937796\n13  chromedriver                        0x0000000104f7bee8 chromedriver + 4210408\n14  chromedriver                        0x0000000104f7c064 chromedriver + 4210788\n15  chromedriver                        0x0000000104f8c134 chromedriver + 4276532\n16  libsystem_pthread.dylib             0x000000019d397fa8 _pthread_start + 148\n17  libsystem_pthread.dylib             0x000000019d392da0 thread_start + 8\n",
     "output_type": "error",
     "traceback": [
      "\u001b[0;31m---------------------------------------------------------------------------\u001b[0m",
      "\u001b[0;31mNoSuchElementException\u001b[0m                    Traceback (most recent call last)",
      "\u001b[1;32m/Users/ctchen/Downloads/Project/Web-crawler/spotify_crawler.ipynb 儲存格 3\u001b[0m line \u001b[0;36m1\n\u001b[1;32m     <a href='vscode-notebook-cell:/Users/ctchen/Downloads/Project/Web-crawler/spotify_crawler.ipynb#W0sZmlsZQ%3D%3D?line=12'>13</a>\u001b[0m login_btn\u001b[39m.\u001b[39mclick()\n\u001b[1;32m     <a href='vscode-notebook-cell:/Users/ctchen/Downloads/Project/Web-crawler/spotify_crawler.ipynb#W0sZmlsZQ%3D%3D?line=14'>15</a>\u001b[0m \u001b[39m# web_player_link = driver.find_element(By.XPATH, \"//button[@data-testid='web-player-link']\")\u001b[39;00m\n\u001b[1;32m     <a href='vscode-notebook-cell:/Users/ctchen/Downloads/Project/Web-crawler/spotify_crawler.ipynb#W0sZmlsZQ%3D%3D?line=15'>16</a>\u001b[0m \u001b[39m# web_player_link = driver.find_element(By.LINK_TEXT, \"網頁播放器\")\u001b[39;00m\n\u001b[0;32m---> <a href='vscode-notebook-cell:/Users/ctchen/Downloads/Project/Web-crawler/spotify_crawler.ipynb#W0sZmlsZQ%3D%3D?line=16'>17</a>\u001b[0m web_player_link \u001b[39m=\u001b[39m driver\u001b[39m.\u001b[39mfind_element(By\u001b[39m.\u001b[39mCLASS_NAME, \u001b[39m\"\u001b[39m\u001b[39mButton-sc-1dqy6lx-0 hIZnWq\u001b[39m\u001b[39m\"\u001b[39m)\n\u001b[1;32m     <a href='vscode-notebook-cell:/Users/ctchen/Downloads/Project/Web-crawler/spotify_crawler.ipynb#W0sZmlsZQ%3D%3D?line=17'>18</a>\u001b[0m web_player_link\u001b[39m.\u001b[39mclick()\n\u001b[1;32m     <a href='vscode-notebook-cell:/Users/ctchen/Downloads/Project/Web-crawler/spotify_crawler.ipynb#W0sZmlsZQ%3D%3D?line=19'>20</a>\u001b[0m \u001b[39m# 關閉瀏覽器\u001b[39;00m\n",
      "File \u001b[0;32m~/anaconda3/lib/python3.11/site-packages/selenium/webdriver/remote/webdriver.py:738\u001b[0m, in \u001b[0;36mWebDriver.find_element\u001b[0;34m(self, by, value)\u001b[0m\n\u001b[1;32m    735\u001b[0m     by \u001b[39m=\u001b[39m By\u001b[39m.\u001b[39mCSS_SELECTOR\n\u001b[1;32m    736\u001b[0m     value \u001b[39m=\u001b[39m \u001b[39mf\u001b[39m\u001b[39m'\u001b[39m\u001b[39m[name=\u001b[39m\u001b[39m\"\u001b[39m\u001b[39m{\u001b[39;00mvalue\u001b[39m}\u001b[39;00m\u001b[39m\"\u001b[39m\u001b[39m]\u001b[39m\u001b[39m'\u001b[39m\n\u001b[0;32m--> 738\u001b[0m \u001b[39mreturn\u001b[39;00m \u001b[39mself\u001b[39m\u001b[39m.\u001b[39mexecute(Command\u001b[39m.\u001b[39mFIND_ELEMENT, {\u001b[39m\"\u001b[39m\u001b[39musing\u001b[39m\u001b[39m\"\u001b[39m: by, \u001b[39m\"\u001b[39m\u001b[39mvalue\u001b[39m\u001b[39m\"\u001b[39m: value})[\u001b[39m\"\u001b[39m\u001b[39mvalue\u001b[39m\u001b[39m\"\u001b[39m]\n",
      "File \u001b[0;32m~/anaconda3/lib/python3.11/site-packages/selenium/webdriver/remote/webdriver.py:344\u001b[0m, in \u001b[0;36mWebDriver.execute\u001b[0;34m(self, driver_command, params)\u001b[0m\n\u001b[1;32m    342\u001b[0m response \u001b[39m=\u001b[39m \u001b[39mself\u001b[39m\u001b[39m.\u001b[39mcommand_executor\u001b[39m.\u001b[39mexecute(driver_command, params)\n\u001b[1;32m    343\u001b[0m \u001b[39mif\u001b[39;00m response:\n\u001b[0;32m--> 344\u001b[0m     \u001b[39mself\u001b[39m\u001b[39m.\u001b[39merror_handler\u001b[39m.\u001b[39mcheck_response(response)\n\u001b[1;32m    345\u001b[0m     response[\u001b[39m\"\u001b[39m\u001b[39mvalue\u001b[39m\u001b[39m\"\u001b[39m] \u001b[39m=\u001b[39m \u001b[39mself\u001b[39m\u001b[39m.\u001b[39m_unwrap_value(response\u001b[39m.\u001b[39mget(\u001b[39m\"\u001b[39m\u001b[39mvalue\u001b[39m\u001b[39m\"\u001b[39m, \u001b[39mNone\u001b[39;00m))\n\u001b[1;32m    346\u001b[0m     \u001b[39mreturn\u001b[39;00m response\n",
      "File \u001b[0;32m~/anaconda3/lib/python3.11/site-packages/selenium/webdriver/remote/errorhandler.py:229\u001b[0m, in \u001b[0;36mErrorHandler.check_response\u001b[0;34m(self, response)\u001b[0m\n\u001b[1;32m    227\u001b[0m         alert_text \u001b[39m=\u001b[39m value[\u001b[39m\"\u001b[39m\u001b[39malert\u001b[39m\u001b[39m\"\u001b[39m]\u001b[39m.\u001b[39mget(\u001b[39m\"\u001b[39m\u001b[39mtext\u001b[39m\u001b[39m\"\u001b[39m)\n\u001b[1;32m    228\u001b[0m     \u001b[39mraise\u001b[39;00m exception_class(message, screen, stacktrace, alert_text)  \u001b[39m# type: ignore[call-arg]  # mypy is not smart enough here\u001b[39;00m\n\u001b[0;32m--> 229\u001b[0m \u001b[39mraise\u001b[39;00m exception_class(message, screen, stacktrace)\n",
      "\u001b[0;31mNoSuchElementException\u001b[0m: Message: no such element: Unable to locate element: {\"method\":\"css selector\",\"selector\":\".Button-sc-1dqy6lx-0 hIZnWq\"}\n  (Session info: chrome=118.0.5993.117); For documentation on this error, please visit: https://www.selenium.dev/documentation/webdriver/troubleshooting/errors#no-such-element-exception\nStacktrace:\n0   chromedriver                        0x0000000104f94510 chromedriver + 4310288\n1   chromedriver                        0x0000000104f8c4bc chromedriver + 4277436\n2   chromedriver                        0x0000000104bbfb6c chromedriver + 293740\n3   chromedriver                        0x0000000104c05040 chromedriver + 577600\n4   chromedriver                        0x0000000104c3fe60 chromedriver + 818784\n5   chromedriver                        0x0000000104bf8fd0 chromedriver + 528336\n6   chromedriver                        0x0000000104bf9e7c chromedriver + 532092\n7   chromedriver                        0x0000000104f5a834 chromedriver + 4073524\n8   chromedriver                        0x0000000104f5e7fc chromedriver + 4089852\n9   chromedriver                        0x0000000104f5ec58 chromedriver + 4090968\n10  chromedriver                        0x0000000104f648f8 chromedriver + 4114680\n11  chromedriver                        0x0000000104f5f234 chromedriver + 4092468\n12  chromedriver                        0x0000000104f39604 chromedriver + 3937796\n13  chromedriver                        0x0000000104f7bee8 chromedriver + 4210408\n14  chromedriver                        0x0000000104f7c064 chromedriver + 4210788\n15  chromedriver                        0x0000000104f8c134 chromedriver + 4276532\n16  libsystem_pthread.dylib             0x000000019d397fa8 _pthread_start + 148\n17  libsystem_pthread.dylib             0x000000019d392da0 thread_start + 8\n"
     ]
    }
   ],
   "source": [
    "# 創建一個 Chrome 瀏覽器實例\n",
    "driver = webdriver.Chrome()\n",
    "\n",
    "# 訪問指定的網頁\n",
    "driver.get(\"https://accounts.spotify.com/zh-TW/login\")\n",
    "time.sleep(3) # Loading wait⋯⋯\n",
    "\n",
    "UserNameInput = driver.find_element(By.ID, \"login-username\")\n",
    "UserNameInput.send_keys(\"31dojih7ngk7rey7dcf2yfh3qkeq\")\n",
    "PassWordInput = driver.find_element(By.ID, \"login-password\")\n",
    "PassWordInput.send_keys(\"abfa76247284\")\n",
    "login_btn = driver.find_element(By.ID, \"login-button\")\n",
    "login_btn.click()\n",
    "\n",
    "# web_player_link = driver.find_element(By.XPATH, \"//button[@data-testid='web-player-link']\")\n",
    "# web_player_link = driver.find_element(By.LINK_TEXT, \"網頁播放器\")\n",
    "web_player_link = driver.find_element(By.CLASS_NAME, \"Button-sc-1dqy6lx-0 hIZnWq\")\n",
    "web_player_link.click()\n",
    "\n",
    "# 關閉瀏覽器\n",
    "time.sleep(5)\n",
    "driver.close()"
   ]
  },
  {
   "cell_type": "code",
   "execution_count": 55,
   "metadata": {},
   "outputs": [
    {
     "ename": "NoSuchWindowException",
     "evalue": "Message: no such window: target window already closed\nfrom unknown error: web view not found\n  (Session info: chrome=118.0.5993.117)\nStacktrace:\n0   chromedriver                        0x0000000104f94510 chromedriver + 4310288\n1   chromedriver                        0x0000000104f8c4bc chromedriver + 4277436\n2   chromedriver                        0x0000000104bbfb6c chromedriver + 293740\n3   chromedriver                        0x0000000104b98718 chromedriver + 132888\n4   chromedriver                        0x0000000104c2c540 chromedriver + 738624\n5   chromedriver                        0x0000000104c31fd8 chromedriver + 761816\n6   chromedriver                        0x0000000104bf8fd0 chromedriver + 528336\n7   chromedriver                        0x0000000104bf9e7c chromedriver + 532092\n8   chromedriver                        0x0000000104f5a834 chromedriver + 4073524\n9   chromedriver                        0x0000000104f5e7fc chromedriver + 4089852\n10  chromedriver                        0x0000000104f5ec58 chromedriver + 4090968\n11  chromedriver                        0x0000000104f648f8 chromedriver + 4114680\n12  chromedriver                        0x0000000104f5f234 chromedriver + 4092468\n13  chromedriver                        0x0000000104f39604 chromedriver + 3937796\n14  chromedriver                        0x0000000104f7bee8 chromedriver + 4210408\n15  chromedriver                        0x0000000104f7c064 chromedriver + 4210788\n16  chromedriver                        0x0000000104f8c134 chromedriver + 4276532\n17  libsystem_pthread.dylib             0x000000019d397fa8 _pthread_start + 148\n18  libsystem_pthread.dylib             0x000000019d392da0 thread_start + 8\n",
     "output_type": "error",
     "traceback": [
      "\u001b[0;31m---------------------------------------------------------------------------\u001b[0m",
      "\u001b[0;31mNoSuchWindowException\u001b[0m                     Traceback (most recent call last)",
      "\u001b[1;32m/Users/ctchen/Downloads/Project/Web-crawler/spotify_crawler.ipynb 儲存格 4\u001b[0m line \u001b[0;36m1\n\u001b[0;32m----> <a href='vscode-notebook-cell:/Users/ctchen/Downloads/Project/Web-crawler/spotify_crawler.ipynb#W5sZmlsZQ%3D%3D?line=0'>1</a>\u001b[0m driver\u001b[39m.\u001b[39mclose()\n",
      "File \u001b[0;32m~/anaconda3/lib/python3.11/site-packages/selenium/webdriver/remote/webdriver.py:455\u001b[0m, in \u001b[0;36mWebDriver.close\u001b[0;34m(self)\u001b[0m\n\u001b[1;32m    447\u001b[0m \u001b[39mdef\u001b[39;00m \u001b[39mclose\u001b[39m(\u001b[39mself\u001b[39m) \u001b[39m-\u001b[39m\u001b[39m>\u001b[39m \u001b[39mNone\u001b[39;00m:\n\u001b[1;32m    448\u001b[0m \u001b[39m    \u001b[39m\u001b[39m\"\"\"Closes the current window.\u001b[39;00m\n\u001b[1;32m    449\u001b[0m \n\u001b[1;32m    450\u001b[0m \u001b[39m    :Usage:\u001b[39;00m\n\u001b[0;32m   (...)\u001b[0m\n\u001b[1;32m    453\u001b[0m \u001b[39m            driver.close()\u001b[39;00m\n\u001b[1;32m    454\u001b[0m \u001b[39m    \"\"\"\u001b[39;00m\n\u001b[0;32m--> 455\u001b[0m     \u001b[39mself\u001b[39m\u001b[39m.\u001b[39mexecute(Command\u001b[39m.\u001b[39mCLOSE)\n",
      "File \u001b[0;32m~/anaconda3/lib/python3.11/site-packages/selenium/webdriver/remote/webdriver.py:344\u001b[0m, in \u001b[0;36mWebDriver.execute\u001b[0;34m(self, driver_command, params)\u001b[0m\n\u001b[1;32m    342\u001b[0m response \u001b[39m=\u001b[39m \u001b[39mself\u001b[39m\u001b[39m.\u001b[39mcommand_executor\u001b[39m.\u001b[39mexecute(driver_command, params)\n\u001b[1;32m    343\u001b[0m \u001b[39mif\u001b[39;00m response:\n\u001b[0;32m--> 344\u001b[0m     \u001b[39mself\u001b[39m\u001b[39m.\u001b[39merror_handler\u001b[39m.\u001b[39mcheck_response(response)\n\u001b[1;32m    345\u001b[0m     response[\u001b[39m\"\u001b[39m\u001b[39mvalue\u001b[39m\u001b[39m\"\u001b[39m] \u001b[39m=\u001b[39m \u001b[39mself\u001b[39m\u001b[39m.\u001b[39m_unwrap_value(response\u001b[39m.\u001b[39mget(\u001b[39m\"\u001b[39m\u001b[39mvalue\u001b[39m\u001b[39m\"\u001b[39m, \u001b[39mNone\u001b[39;00m))\n\u001b[1;32m    346\u001b[0m     \u001b[39mreturn\u001b[39;00m response\n",
      "File \u001b[0;32m~/anaconda3/lib/python3.11/site-packages/selenium/webdriver/remote/errorhandler.py:229\u001b[0m, in \u001b[0;36mErrorHandler.check_response\u001b[0;34m(self, response)\u001b[0m\n\u001b[1;32m    227\u001b[0m         alert_text \u001b[39m=\u001b[39m value[\u001b[39m\"\u001b[39m\u001b[39malert\u001b[39m\u001b[39m\"\u001b[39m]\u001b[39m.\u001b[39mget(\u001b[39m\"\u001b[39m\u001b[39mtext\u001b[39m\u001b[39m\"\u001b[39m)\n\u001b[1;32m    228\u001b[0m     \u001b[39mraise\u001b[39;00m exception_class(message, screen, stacktrace, alert_text)  \u001b[39m# type: ignore[call-arg]  # mypy is not smart enough here\u001b[39;00m\n\u001b[0;32m--> 229\u001b[0m \u001b[39mraise\u001b[39;00m exception_class(message, screen, stacktrace)\n",
      "\u001b[0;31mNoSuchWindowException\u001b[0m: Message: no such window: target window already closed\nfrom unknown error: web view not found\n  (Session info: chrome=118.0.5993.117)\nStacktrace:\n0   chromedriver                        0x0000000104f94510 chromedriver + 4310288\n1   chromedriver                        0x0000000104f8c4bc chromedriver + 4277436\n2   chromedriver                        0x0000000104bbfb6c chromedriver + 293740\n3   chromedriver                        0x0000000104b98718 chromedriver + 132888\n4   chromedriver                        0x0000000104c2c540 chromedriver + 738624\n5   chromedriver                        0x0000000104c31fd8 chromedriver + 761816\n6   chromedriver                        0x0000000104bf8fd0 chromedriver + 528336\n7   chromedriver                        0x0000000104bf9e7c chromedriver + 532092\n8   chromedriver                        0x0000000104f5a834 chromedriver + 4073524\n9   chromedriver                        0x0000000104f5e7fc chromedriver + 4089852\n10  chromedriver                        0x0000000104f5ec58 chromedriver + 4090968\n11  chromedriver                        0x0000000104f648f8 chromedriver + 4114680\n12  chromedriver                        0x0000000104f5f234 chromedriver + 4092468\n13  chromedriver                        0x0000000104f39604 chromedriver + 3937796\n14  chromedriver                        0x0000000104f7bee8 chromedriver + 4210408\n15  chromedriver                        0x0000000104f7c064 chromedriver + 4210788\n16  chromedriver                        0x0000000104f8c134 chromedriver + 4276532\n17  libsystem_pthread.dylib             0x000000019d397fa8 _pthread_start + 148\n18  libsystem_pthread.dylib             0x000000019d392da0 thread_start + 8\n"
     ]
    }
   ],
   "source": [
    "driver.close()"
   ]
  },
  {
   "cell_type": "code",
   "execution_count": null,
   "metadata": {},
   "outputs": [],
   "source": []
  }
 ],
 "metadata": {
  "kernelspec": {
   "display_name": "base",
   "language": "python",
   "name": "python3"
  },
  "language_info": {
   "codemirror_mode": {
    "name": "ipython",
    "version": 3
   },
   "file_extension": ".py",
   "mimetype": "text/x-python",
   "name": "python",
   "nbconvert_exporter": "python",
   "pygments_lexer": "ipython3",
   "version": "3.11.3"
  }
 },
 "nbformat": 4,
 "nbformat_minor": 2
}
