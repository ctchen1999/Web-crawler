{
 "cells": [
  {
   "cell_type": "code",
   "execution_count": 1,
   "metadata": {},
   "outputs": [
    {
     "name": "stdout",
     "output_type": "stream",
     "text": [
      "Requirement already satisfied: selenium in /Users/ctchen/anaconda3/lib/python3.11/site-packages (4.14.0)\n",
      "Requirement already satisfied: urllib3[socks]<3,>=1.26 in /Users/ctchen/anaconda3/lib/python3.11/site-packages (from selenium) (1.26.16)\n",
      "Requirement already satisfied: trio~=0.17 in /Users/ctchen/anaconda3/lib/python3.11/site-packages (from selenium) (0.22.2)\n",
      "Requirement already satisfied: trio-websocket~=0.9 in /Users/ctchen/anaconda3/lib/python3.11/site-packages (from selenium) (0.11.1)\n",
      "Requirement already satisfied: certifi>=2021.10.8 in /Users/ctchen/anaconda3/lib/python3.11/site-packages (from selenium) (2023.7.22)\n",
      "Requirement already satisfied: attrs>=20.1.0 in /Users/ctchen/anaconda3/lib/python3.11/site-packages (from trio~=0.17->selenium) (22.1.0)\n",
      "Requirement already satisfied: sortedcontainers in /Users/ctchen/anaconda3/lib/python3.11/site-packages (from trio~=0.17->selenium) (2.4.0)\n",
      "Requirement already satisfied: idna in /Users/ctchen/anaconda3/lib/python3.11/site-packages (from trio~=0.17->selenium) (3.4)\n",
      "Requirement already satisfied: outcome in /Users/ctchen/anaconda3/lib/python3.11/site-packages (from trio~=0.17->selenium) (1.3.0.post0)\n",
      "Requirement already satisfied: sniffio in /Users/ctchen/anaconda3/lib/python3.11/site-packages (from trio~=0.17->selenium) (1.2.0)\n",
      "Requirement already satisfied: wsproto>=0.14 in /Users/ctchen/anaconda3/lib/python3.11/site-packages (from trio-websocket~=0.9->selenium) (1.2.0)\n",
      "Requirement already satisfied: PySocks!=1.5.7,<2.0,>=1.5.6 in /Users/ctchen/anaconda3/lib/python3.11/site-packages (from urllib3[socks]<3,>=1.26->selenium) (1.7.1)\n",
      "Requirement already satisfied: h11<1,>=0.9.0 in /Users/ctchen/anaconda3/lib/python3.11/site-packages (from wsproto>=0.14->trio-websocket~=0.9->selenium) (0.14.0)\n"
     ]
    }
   ],
   "source": [
    "!pip install selenium"
   ]
  },
  {
   "cell_type": "code",
   "execution_count": 3,
   "metadata": {},
   "outputs": [],
   "source": [
    "import requests\n",
    "from selenium import webdriver\n",
    "from selenium.webdriver.support.ui import WebDriverWait\n",
    "from selenium.webdriver.support import expected_conditions as EC\n",
    "from selenium.webdriver.common.keys import Keys\n",
    "from selenium.webdriver.common.by import By\n",
    "from selenium.webdriver.support.select import Select\n",
    "from bs4 import BeautifulSoup\n",
    "import time"
   ]
  },
  {
   "cell_type": "markdown",
   "metadata": {},
   "source": [
    "## 高鐵搶票模擬⋯⋯"
   ]
  },
  {
   "cell_type": "code",
   "execution_count": 4,
   "metadata": {},
   "outputs": [],
   "source": [
    "# This part pre-define some information about website\n",
    "station_dict = {\"南港\": 1,\n",
    "                \"台北\": 2,\n",
    "                \"板橋\": 3,\n",
    "                \"新竹\": 4,\n",
    "                \"桃園\": 5,\n",
    "                \"苗栗\": 6,\n",
    "                \"台中\": 7,\n",
    "                \"彰化\": 8,\n",
    "                \"雲林\": 9,\n",
    "                \"嘉義\": 10,\n",
    "                \"台南\": 11,\n",
    "                \"左營\": 12}\n",
    "\n",
    "to_time_dict = {\"00:00\": \"1201A\", \"00:30\": \"1230A\",\n",
    "                \"05:00\": \"500A\",  \"05:30\": \"530A\",\n",
    "                \"06:00\": \"600A\",  \"06:30\": \"630A\",\n",
    "                \"07:00\": \"700A\",  \"07:30\": \"730A\",\n",
    "                \"08:00\": \"800A\",  \"08:30\": \"830A\",\n",
    "                \"09:00\": \"900A\",  \"09:30\": \"930A\",\n",
    "                \"10:00\": \"1000A\", \"10:30\": \"1030A\",\n",
    "                \"11:00\": \"1100A\", \"11:30\": \"1130A\",\n",
    "                \"12:00\": \"1200N\", \"12:30\": \"1230P\",\n",
    "                \"13:00\": \"100P\",  \"13:30\": \"130P\",\n",
    "                \"14:00\": \"200P\",  \"14:30\": \"230P\",\n",
    "                \"15:00\": \"300P\",  \"15:30\": \"330P\",\n",
    "                \"16:00\": \"400P\",  \"16:30\": \"430P\",\n",
    "                \"17:00\": \"500P\",  \"17:30\": \"530P\",\n",
    "                \"18:00\": \"600P\",  \"18:30\": \"600P\",\n",
    "                \"19:00\": \"700P\",  \"19:30\": \"730P\",\n",
    "                \"20:00\": \"800P\",  \"20:30\": \"830P\",\n",
    "                \"21:00\": \"900P\",  \"21:30\": \"930P\",\n",
    "                \"22:00\": \"1000P\", \"22:30\": \"1030P\",\n",
    "                \"23:00\": \"1100P\", \"23:30\": \"1130P\",\n",
    "                }\n",
    "\n",
    "\n",
    "# 可以改成用輸入的\n",
    "# [全票, 孩童票, 愛心票, 敬老票, 學生票]\n",
    "ticket_type = [0, 0, 0, 0, 1]\n",
    "ticket_decoration = [\"F\", \"H\", \"W\", \"E\", \"P\"]"
   ]
  },
  {
   "cell_type": "code",
   "execution_count": 5,
   "metadata": {},
   "outputs": [],
   "source": [
    "driver = webdriver.Chrome()\n",
    "\n",
    "# 進入高鐵首頁\n",
    "# driver.get(\"https://www.google.com/\")\n",
    "driver.get(\"https://www.thsrc.com.tw/\")\n",
    "driver.implicitly_wait(2) # Loading wait⋯\n",
    "\n",
    "# 登入頁面的確認按鈕\n",
    "agree = driver.find_element(By.CLASS_NAME, \"swal2-confirm\")\n",
    "agree.send_keys(Keys.ENTER)\n",
    "\n",
    "# 進入買票的頁面\n",
    "driver.get(\"https://irs.thsrc.com.tw/IMINT/?locale=tw\") \n",
    "cookie_btn = driver.find_element(By.ID, \"cookieAccpetBtn\")\n",
    "cookie_btn.send_keys(Keys.ENTER)\n",
    "\n",
    "# 選擇啟程站\n",
    "select = driver.find_element(By.NAME, \"selectStartStation\")\n",
    "start_station = Select(select)\n",
    "start_station.select_by_index(station_dict[\"台北\"])\n",
    "\n",
    "# 選擇到達站\n",
    "select = driver.find_element(By.NAME, \"selectDestinationStation\")\n",
    "start_station = Select(select)\n",
    "start_station.select_by_index(station_dict[\"左營\"])\n",
    "\n",
    "# 選擇出發時間\n",
    "# js = \"document.getElementByClassName('uk-input').removeAttribute('readonly');\"\n",
    "# driver.execute_script(js)\n",
    "js_value = \"document.getElementById('toTimeInputField').value='{}'\".format(\"2023/12/20\")\n",
    "driver.execute_script(js_value)\n",
    "\n",
    "# 選擇出發時間\n",
    "select = driver.find_element(By.NAME, \"toTimeTable\")\n",
    "to_time = Select(select)\n",
    "to_time.select_by_value(to_time_dict[\"22:00\"])\n",
    "\n",
    "# 選擇票種\n",
    "for idx, _ in enumerate(ticket_type):\n",
    "    select = driver.find_element(By.NAME, \"ticketPanel:rows:\"+str(idx)+\":ticketAmount\")\n",
    "    ticket = Select(select)\n",
    "    ticket.select_by_value(str(ticket_type[idx])+ticket_decoration[idx])\n",
    "\n",
    "# 輸入驗證碼\n",
    "WebDriverWait(driver, 10).until(\n",
    "    EC.presence_of_element_located((By.NAME, \"homeCaptcha:securityCode\")))\n",
    "\n",
    "driver.find_element(By.ID, \"SubmitButton\").click()\n",
    "\n",
    "\n",
    "\n",
    "# 關閉瀏覽器\n",
    "\n",
    "driver.close()"
   ]
  },
  {
   "cell_type": "markdown",
   "metadata": {},
   "source": [
    "Problem records:\n",
    "* 輸入驗證碼 -> API or Machine learning\n",
    "* 資料都輸入之後，點擊無反應 -> 似乎是傳給伺服器的封包不同於chorme?"
   ]
  },
  {
   "cell_type": "code",
   "execution_count": null,
   "metadata": {},
   "outputs": [],
   "source": []
  }
 ],
 "metadata": {
  "kernelspec": {
   "display_name": "base",
   "language": "python",
   "name": "python3"
  },
  "language_info": {
   "codemirror_mode": {
    "name": "ipython",
    "version": 3
   },
   "file_extension": ".py",
   "mimetype": "text/x-python",
   "name": "python",
   "nbconvert_exporter": "python",
   "pygments_lexer": "ipython3",
   "version": "3.11.3"
  }
 },
 "nbformat": 4,
 "nbformat_minor": 2
}
